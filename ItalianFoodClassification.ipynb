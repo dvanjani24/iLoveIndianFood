{
 "cells": [
  {
   "cell_type": "code",
   "execution_count": 1,
   "id": "c961c578-41de-4646-8fb5-76916b9d1cd0",
   "metadata": {},
   "outputs": [
    {
     "name": "stderr",
     "output_type": "stream",
     "text": [
      "2023-05-25 06:56:46.846806: I tensorflow/core/platform/cpu_feature_guard.cc:193] This TensorFlow binary is optimized with oneAPI Deep Neural Network Library (oneDNN) to use the following CPU instructions in performance-critical operations:  AVX2 FMA\n",
      "To enable them in other operations, rebuild TensorFlow with the appropriate compiler flags.\n",
      "2023-05-25 06:56:49.596194: W tensorflow/compiler/xla/stream_executor/platform/default/dso_loader.cc:64] Could not load dynamic library 'libnvinfer.so.7'; dlerror: libnvinfer.so.7: cannot open shared object file: No such file or directory; LD_LIBRARY_PATH: /usr/local/cuda/lib64:/usr/local/nccl2/lib:/usr/local/cuda/extras/CUPTI/lib64\n",
      "2023-05-25 06:56:49.596298: W tensorflow/compiler/xla/stream_executor/platform/default/dso_loader.cc:64] Could not load dynamic library 'libnvinfer_plugin.so.7'; dlerror: libnvinfer_plugin.so.7: cannot open shared object file: No such file or directory; LD_LIBRARY_PATH: /usr/local/cuda/lib64:/usr/local/nccl2/lib:/usr/local/cuda/extras/CUPTI/lib64\n",
      "2023-05-25 06:56:49.596308: W tensorflow/compiler/tf2tensorrt/utils/py_utils.cc:38] TF-TRT Warning: Cannot dlopen some TensorRT libraries. If you would like to use Nvidia GPU with TensorRT, please make sure the missing libraries mentioned above are installed properly.\n"
     ]
    }
   ],
   "source": [
    "import os\n",
    "import pandas as pd\n",
    "import numpy as np\n",
    "import matplotlib.pyplot as plt\n",
    "import json\n",
    "import warnings\n",
    "warnings.filterwarnings('ignore')\n",
    "%matplotlib inline\n",
    "import seaborn as sns\n",
    "\n",
    "import tensorflow as tf\n",
    "from tensorflow import keras\n",
    "%load_ext tensorboard\n",
    "\n",
    "from PIL import ImageFile\n",
    "ImageFile.LOAD_TRUNCATED_IMAGES = True\n",
    "\n",
    "import pickle"
   ]
  },
  {
   "cell_type": "code",
   "execution_count": 2,
   "id": "5f2f345f-939e-40e9-8f3a-7c0b06f450cc",
   "metadata": {},
   "outputs": [],
   "source": [
    "from keras.preprocessing.image import ImageDataGenerator\n",
    "datagen = ImageDataGenerator(rescale=1./255, # Scaling\n",
    "                                   shear_range=0.2, # Data Augmentation\n",
    "                                   zoom_range=0.2,\n",
    "                                   validation_split=0.2 # Validation set\n",
    "                                  )"
   ]
  },
  {
   "cell_type": "code",
   "execution_count": 4,
   "id": "41b591ab-ea20-489a-93da-9008b882aa1b",
   "metadata": {},
   "outputs": [
    {
     "name": "stdout",
     "output_type": "stream",
     "text": [
      "Found 401 images belonging to 11 classes.\n",
      "Found 100 images belonging to 11 classes.\n"
     ]
    }
   ],
   "source": [
    "training_data_path = \"Italian Food Images\"\n",
    "\n",
    "target_size = (224,224)\n",
    "batch_size = 32\n",
    "\n",
    "train_set = datagen.flow_from_directory(\n",
    "    training_data_path,\n",
    "    target_size=target_size,\n",
    "    batch_size=batch_size,\n",
    "    shuffle=True,\n",
    "    class_mode='categorical',\n",
    "    subset=\"training\",\n",
    "    seed = 24)\n",
    "validation_set = datagen.flow_from_directory(\n",
    "    training_data_path,\n",
    "    target_size=target_size,\n",
    "    batch_size=batch_size,\n",
    "    shuffle=True,\n",
    "    class_mode='categorical',\n",
    "    subset=\"validation\",\n",
    "    seed = 24)"
   ]
  },
  {
   "cell_type": "code",
   "execution_count": 6,
   "id": "ae639cc4-0a74-402c-b3b3-3d9ba907e290",
   "metadata": {},
   "outputs": [
    {
     "name": "stdout",
     "output_type": "stream",
     "text": [
      "Image Shape: (224, 224, 3)\n",
      "Number of Classes: 11\n"
     ]
    }
   ],
   "source": [
    "image_shape = train_set.image_shape\n",
    "print(\"Image Shape:\", image_shape)\n",
    "\n",
    "num_classes = train_set.num_classes\n",
    "print(\"Number of Classes:\", num_classes)"
   ]
  },
  {
   "cell_type": "code",
   "execution_count": 7,
   "id": "a5d84876-6ef2-4911-ad0e-1aac34b7c17c",
   "metadata": {},
   "outputs": [],
   "source": [
    "from tensorflow.keras.applications import ResNet101, InceptionResNetV2, MobileNetV2\n",
    "from tensorflow.keras.models import Sequential\n",
    "from tensorflow.keras.layers import Conv2D, MaxPooling2D, Flatten, Dense, Dropout\n",
    "\n",
    "def build_classifier_on_top(base_model, dropout_rate=0.3, num_classes = num_classes):\n",
    "    inputs = base_model.input\n",
    "    x = Dense(512, activation='relu')(base_model.output)\n",
    "    x = Dropout(dropout_rate)(x)\n",
    "    x = Dense(256, activation='relu')(x)\n",
    "    x = Dense(256, activation='relu')(x)\n",
    "    x = Dropout(dropout_rate)(x)\n",
    "    outputs = Dense(num_classes, activation='softmax')(x)\n",
    "    model = keras.Model(inputs=inputs, outputs=outputs)\n",
    "    return model          "
   ]
  },
  {
   "cell_type": "code",
   "execution_count": 8,
   "id": "afe1ef80-80b7-4d9f-b2e1-a5756e8b5646",
   "metadata": {},
   "outputs": [],
   "source": [
    "from tensorflow.keras.callbacks import EarlyStopping, TensorBoard\n",
    "early_stopping = EarlyStopping(monitor='val_loss', patience=7)\n",
    "tensorboard_italia = TensorBoard(log_dir='logs/mobilenet_top_italia/')"
   ]
  },
  {
   "cell_type": "code",
   "execution_count": 9,
   "id": "51ec7233-cb2f-4273-8d76-383897c9cb47",
   "metadata": {},
   "outputs": [
    {
     "name": "stderr",
     "output_type": "stream",
     "text": [
      "2023-05-25 06:57:29.472915: I tensorflow/compiler/xla/stream_executor/cuda/cuda_gpu_executor.cc:981] successful NUMA node read from SysFS had negative value (-1), but there must be at least one NUMA node, so returning NUMA node zero\n",
      "2023-05-25 06:57:29.485014: I tensorflow/compiler/xla/stream_executor/cuda/cuda_gpu_executor.cc:981] successful NUMA node read from SysFS had negative value (-1), but there must be at least one NUMA node, so returning NUMA node zero\n",
      "2023-05-25 06:57:29.486675: I tensorflow/compiler/xla/stream_executor/cuda/cuda_gpu_executor.cc:981] successful NUMA node read from SysFS had negative value (-1), but there must be at least one NUMA node, so returning NUMA node zero\n",
      "2023-05-25 06:57:29.488966: I tensorflow/core/platform/cpu_feature_guard.cc:193] This TensorFlow binary is optimized with oneAPI Deep Neural Network Library (oneDNN) to use the following CPU instructions in performance-critical operations:  AVX2 FMA\n",
      "To enable them in other operations, rebuild TensorFlow with the appropriate compiler flags.\n",
      "2023-05-25 06:57:29.489491: I tensorflow/compiler/xla/stream_executor/cuda/cuda_gpu_executor.cc:981] successful NUMA node read from SysFS had negative value (-1), but there must be at least one NUMA node, so returning NUMA node zero\n",
      "2023-05-25 06:57:29.491231: I tensorflow/compiler/xla/stream_executor/cuda/cuda_gpu_executor.cc:981] successful NUMA node read from SysFS had negative value (-1), but there must be at least one NUMA node, so returning NUMA node zero\n",
      "2023-05-25 06:57:29.492884: I tensorflow/compiler/xla/stream_executor/cuda/cuda_gpu_executor.cc:981] successful NUMA node read from SysFS had negative value (-1), but there must be at least one NUMA node, so returning NUMA node zero\n",
      "2023-05-25 06:57:30.349425: I tensorflow/compiler/xla/stream_executor/cuda/cuda_gpu_executor.cc:981] successful NUMA node read from SysFS had negative value (-1), but there must be at least one NUMA node, so returning NUMA node zero\n",
      "2023-05-25 06:57:30.351411: I tensorflow/compiler/xla/stream_executor/cuda/cuda_gpu_executor.cc:981] successful NUMA node read from SysFS had negative value (-1), but there must be at least one NUMA node, so returning NUMA node zero\n",
      "2023-05-25 06:57:30.353099: I tensorflow/compiler/xla/stream_executor/cuda/cuda_gpu_executor.cc:981] successful NUMA node read from SysFS had negative value (-1), but there must be at least one NUMA node, so returning NUMA node zero\n",
      "2023-05-25 06:57:30.354670: I tensorflow/core/common_runtime/gpu/gpu_device.cc:1613] Created device /job:localhost/replica:0/task:0/device:GPU:0 with 13582 MB memory:  -> device: 0, name: Tesla T4, pci bus id: 0000:00:04.0, compute capability: 7.5\n"
     ]
    }
   ],
   "source": [
    "mobilenet = MobileNetV2(weights='imagenet', include_top=False, input_shape=image_shape, pooling='max')\n",
    "mobilenet.trainable = False\n",
    "mobilenet_top_italia = build_classifier_on_top(mobilenet)\n",
    "mobilenet_top_italia.compile(optimizer='adam', loss='categorical_crossentropy', metrics=['accuracy'])"
   ]
  },
  {
   "cell_type": "code",
   "execution_count": 10,
   "id": "afeb0473-328e-48ac-8752-2c6975f46ebf",
   "metadata": {},
   "outputs": [
    {
     "name": "stdout",
     "output_type": "stream",
     "text": [
      "Epoch 1/50\n"
     ]
    },
    {
     "name": "stderr",
     "output_type": "stream",
     "text": [
      "2023-05-25 06:57:38.904090: I tensorflow/compiler/xla/stream_executor/cuda/cuda_dnn.cc:428] Loaded cuDNN version 8200\n",
      "2023-05-25 06:57:40.690231: I tensorflow/compiler/xla/service/service.cc:173] XLA service 0x55ae27350080 initialized for platform CUDA (this does not guarantee that XLA will be used). Devices:\n",
      "2023-05-25 06:57:40.690276: I tensorflow/compiler/xla/service/service.cc:181]   StreamExecutor device (0): Tesla T4, Compute Capability 7.5\n",
      "2023-05-25 06:57:40.762470: I tensorflow/compiler/mlir/tensorflow/utils/dump_mlir_util.cc:268] disabling MLIR crash reproducer, set env var `MLIR_CRASH_REPRODUCER_DIRECTORY` to enable.\n",
      "2023-05-25 06:57:41.392117: I tensorflow/compiler/jit/xla_compilation_cache.cc:477] Compiled cluster using XLA!  This line is logged at most once for the lifetime of the process.\n"
     ]
    },
    {
     "name": "stdout",
     "output_type": "stream",
     "text": [
      "13/13 [==============================] - 39s 3s/step - loss: 3.6276 - accuracy: 0.1995 - val_loss: 1.7544 - val_accuracy: 0.4100\n",
      "Epoch 2/50\n",
      "13/13 [==============================] - 16s 1s/step - loss: 2.1211 - accuracy: 0.3541 - val_loss: 1.3398 - val_accuracy: 0.5700\n",
      "Epoch 3/50\n",
      "13/13 [==============================] - 16s 1s/step - loss: 1.3481 - accuracy: 0.5387 - val_loss: 0.8050 - val_accuracy: 0.8300\n",
      "Epoch 4/50\n",
      "13/13 [==============================] - 16s 1s/step - loss: 0.9828 - accuracy: 0.6833 - val_loss: 0.6041 - val_accuracy: 0.8200\n",
      "Epoch 5/50\n",
      "13/13 [==============================] - 16s 1s/step - loss: 0.7779 - accuracy: 0.7207 - val_loss: 0.5698 - val_accuracy: 0.8200\n",
      "Epoch 6/50\n",
      "13/13 [==============================] - 16s 1s/step - loss: 0.6929 - accuracy: 0.7805 - val_loss: 0.5059 - val_accuracy: 0.8600\n",
      "Epoch 7/50\n",
      "13/13 [==============================] - 16s 1s/step - loss: 0.6018 - accuracy: 0.7855 - val_loss: 0.4075 - val_accuracy: 0.8700\n",
      "Epoch 8/50\n",
      "13/13 [==============================] - 16s 1s/step - loss: 0.4790 - accuracy: 0.8229 - val_loss: 0.4110 - val_accuracy: 0.8200\n",
      "Epoch 9/50\n",
      "13/13 [==============================] - 16s 1s/step - loss: 0.4208 - accuracy: 0.8628 - val_loss: 0.4305 - val_accuracy: 0.8600\n",
      "Epoch 10/50\n",
      "13/13 [==============================] - 16s 1s/step - loss: 0.3917 - accuracy: 0.8703 - val_loss: 0.4778 - val_accuracy: 0.8600\n",
      "Epoch 11/50\n",
      "13/13 [==============================] - 16s 1s/step - loss: 0.3290 - accuracy: 0.8803 - val_loss: 0.3441 - val_accuracy: 0.9000\n",
      "Epoch 12/50\n",
      "13/13 [==============================] - 16s 1s/step - loss: 0.3370 - accuracy: 0.8803 - val_loss: 0.5353 - val_accuracy: 0.9000\n",
      "Epoch 13/50\n",
      "13/13 [==============================] - 16s 1s/step - loss: 0.2283 - accuracy: 0.9327 - val_loss: 0.3354 - val_accuracy: 0.8900\n",
      "Epoch 14/50\n",
      "13/13 [==============================] - 16s 1s/step - loss: 0.3055 - accuracy: 0.9077 - val_loss: 0.6189 - val_accuracy: 0.8600\n",
      "Epoch 15/50\n",
      "13/13 [==============================] - 16s 1s/step - loss: 0.2667 - accuracy: 0.9227 - val_loss: 0.4577 - val_accuracy: 0.8400\n",
      "Epoch 16/50\n",
      "13/13 [==============================] - 16s 1s/step - loss: 0.1621 - accuracy: 0.9576 - val_loss: 0.3561 - val_accuracy: 0.8800\n",
      "Epoch 17/50\n",
      "13/13 [==============================] - 16s 1s/step - loss: 0.1668 - accuracy: 0.9377 - val_loss: 0.3170 - val_accuracy: 0.8700\n",
      "Epoch 18/50\n",
      "13/13 [==============================] - 16s 1s/step - loss: 0.1078 - accuracy: 0.9651 - val_loss: 0.3233 - val_accuracy: 0.9100\n",
      "Epoch 19/50\n",
      "13/13 [==============================] - 16s 1s/step - loss: 0.1840 - accuracy: 0.9302 - val_loss: 0.4317 - val_accuracy: 0.8500\n",
      "Epoch 20/50\n",
      "13/13 [==============================] - 16s 1s/step - loss: 0.1217 - accuracy: 0.9626 - val_loss: 0.4627 - val_accuracy: 0.8700\n",
      "Epoch 21/50\n",
      "13/13 [==============================] - 16s 1s/step - loss: 0.1524 - accuracy: 0.9526 - val_loss: 0.3748 - val_accuracy: 0.9100\n",
      "Epoch 22/50\n",
      "13/13 [==============================] - 16s 1s/step - loss: 0.1996 - accuracy: 0.9302 - val_loss: 0.5050 - val_accuracy: 0.8300\n",
      "Epoch 23/50\n",
      "13/13 [==============================] - 16s 1s/step - loss: 0.2362 - accuracy: 0.9252 - val_loss: 0.3716 - val_accuracy: 0.8600\n",
      "Epoch 24/50\n",
      "13/13 [==============================] - 16s 1s/step - loss: 0.1493 - accuracy: 0.9476 - val_loss: 0.4311 - val_accuracy: 0.8400\n"
     ]
    }
   ],
   "source": [
    "history_mobilenet_italia = mobilenet_top_italia.fit(train_set, validation_data=validation_set, epochs=50, batch_size=batch_size,\n",
    "                          callbacks=[early_stopping, tensorboard_italia])\n",
    "mobilenet_top_italia.save(\"MobileNetV2_italia.h5\")\n",
    "with open('train_history/history_mobilenet_italia', 'wb') as file:\n",
    "    pickle.dump(history_mobilenet_italia.history, file)"
   ]
  },
  {
   "cell_type": "code",
   "execution_count": 11,
   "id": "9b9c4b45-8dcb-4b35-afa9-42fd6e306fba",
   "metadata": {},
   "outputs": [],
   "source": [
    "mobilenet_top_italia.trainable = True\n",
    "mobilenet_top_italia.compile(optimizer=keras.optimizers.Adam(1e-4),  # Very low learning rate\n",
    "               loss='categorical_crossentropy', metrics=['accuracy'])"
   ]
  },
  {
   "cell_type": "code",
   "execution_count": 13,
   "id": "6ead5bb3-1209-4846-a31f-9d58d7565e49",
   "metadata": {},
   "outputs": [
    {
     "name": "stdout",
     "output_type": "stream",
     "text": [
      "Epoch 1/100\n",
      "13/13 [==============================] - 42s 1s/step - loss: 1.3026 - accuracy: 0.6259 - val_loss: 0.3952 - val_accuracy: 0.8700\n",
      "Epoch 2/100\n",
      "13/13 [==============================] - 16s 1s/step - loss: 0.5942 - accuracy: 0.8279 - val_loss: 0.4673 - val_accuracy: 0.8800\n",
      "Epoch 3/100\n",
      "13/13 [==============================] - 16s 1s/step - loss: 0.3023 - accuracy: 0.8953 - val_loss: 0.4376 - val_accuracy: 0.8900\n",
      "Epoch 4/100\n",
      "13/13 [==============================] - 16s 1s/step - loss: 0.2234 - accuracy: 0.9252 - val_loss: 0.6245 - val_accuracy: 0.8500\n",
      "Epoch 5/100\n",
      "13/13 [==============================] - 16s 1s/step - loss: 0.1788 - accuracy: 0.9352 - val_loss: 0.6626 - val_accuracy: 0.8800\n",
      "Epoch 6/100\n",
      "13/13 [==============================] - 16s 1s/step - loss: 0.1156 - accuracy: 0.9651 - val_loss: 0.5469 - val_accuracy: 0.9000\n"
     ]
    },
    {
     "ename": "NameError",
     "evalue": "name 'mobilenet_top' is not defined",
     "output_type": "error",
     "traceback": [
      "\u001b[0;31m---------------------------------------------------------------------------\u001b[0m",
      "\u001b[0;31mNameError\u001b[0m                                 Traceback (most recent call last)",
      "Cell \u001b[0;32mIn[13], line 9\u001b[0m\n\u001b[1;32m      2\u001b[0m tensorboard_mobilenet_ft_italia \u001b[38;5;241m=\u001b[39m TensorBoard(log_dir\u001b[38;5;241m=\u001b[39m\u001b[38;5;124m'\u001b[39m\u001b[38;5;124mlogs/mobilenet_ft_italia/\u001b[39m\u001b[38;5;124m'\u001b[39m)\n\u001b[1;32m      4\u001b[0m history_mobilenet_italia_ft \u001b[38;5;241m=\u001b[39m mobilenet_top_italia\u001b[38;5;241m.\u001b[39mfit(train_set,\n\u001b[1;32m      5\u001b[0m                                          validation_data\u001b[38;5;241m=\u001b[39mvalidation_set,\n\u001b[1;32m      6\u001b[0m                                          epochs\u001b[38;5;241m=\u001b[39m\u001b[38;5;241m100\u001b[39m,\n\u001b[1;32m      7\u001b[0m                                          batch_size\u001b[38;5;241m=\u001b[39mbatch_size,\n\u001b[1;32m      8\u001b[0m                           callbacks\u001b[38;5;241m=\u001b[39m[early_stopping, tensorboard_mobilenet_ft_italia])\n\u001b[0;32m----> 9\u001b[0m \u001b[43mmobilenet_top\u001b[49m\u001b[38;5;241m.\u001b[39msave(\u001b[38;5;124m\"\u001b[39m\u001b[38;5;124mMobileNetV2_italia_ft.h5\u001b[39m\u001b[38;5;124m\"\u001b[39m)\n\u001b[1;32m     10\u001b[0m \u001b[38;5;28;01mwith\u001b[39;00m \u001b[38;5;28mopen\u001b[39m(\u001b[38;5;124m'\u001b[39m\u001b[38;5;124mtrain_history/history_mobilenet_ft_italia\u001b[39m\u001b[38;5;124m'\u001b[39m, \u001b[38;5;124m'\u001b[39m\u001b[38;5;124mwb\u001b[39m\u001b[38;5;124m'\u001b[39m) \u001b[38;5;28;01mas\u001b[39;00m file:\n\u001b[1;32m     11\u001b[0m     pickle\u001b[38;5;241m.\u001b[39mdump(history_mobilenet_italia_ft\u001b[38;5;241m.\u001b[39mhistory, file)\n",
      "\u001b[0;31mNameError\u001b[0m: name 'mobilenet_top' is not defined"
     ]
    }
   ],
   "source": [
    "early_stopping = EarlyStopping(monitor='val_loss', patience=5)\n",
    "tensorboard_mobilenet_ft_italia = TensorBoard(log_dir='logs/mobilenet_ft_italia/')\n",
    "\n",
    "history_mobilenet_italia_ft = mobilenet_top_italia.fit(train_set,\n",
    "                                         validation_data=validation_set,\n",
    "                                         epochs=100,\n",
    "                                         batch_size=batch_size,\n",
    "                          callbacks=[early_stopping, tensorboard_mobilenet_ft_italia])\n",
    "mobilenet_top_italia.save(\"MobileNetV2_italia_ft.h5\")\n",
    "with open('train_history/history_mobilenet_ft_italia', 'wb') as file:\n",
    "    pickle.dump(history_mobilenet_italia_ft.history, file)"
   ]
  },
  {
   "cell_type": "code",
   "execution_count": 15,
   "id": "371be00e-f028-4784-a15e-3f2af6dd528e",
   "metadata": {},
   "outputs": [
    {
     "name": "stdout",
     "output_type": "stream",
     "text": [
      "13/13 [==============================] - 12s 957ms/step - loss: 0.1337 - accuracy: 0.9626\n",
      "4/4 [==============================] - 4s 818ms/step - loss: 0.6029 - accuracy: 0.8600\n"
     ]
    },
    {
     "data": {
      "text/plain": [
       "[0.602929949760437, 0.8600000143051147]"
      ]
     },
     "execution_count": 15,
     "metadata": {},
     "output_type": "execute_result"
    }
   ],
   "source": [
    "mobilenet_top_italia.evaluate(train_set)\n",
    "mobilenet_top_italia.evaluate(validation_set)"
   ]
  }
 ],
 "metadata": {
  "environment": {
   "kernel": "python3",
   "name": "tf2-gpu.2-11.m108",
   "type": "gcloud",
   "uri": "gcr.io/deeplearning-platform-release/tf2-gpu.2-11:m108"
  },
  "kernelspec": {
   "display_name": "Python 3 (ipykernel)",
   "language": "python",
   "name": "python3"
  },
  "language_info": {
   "codemirror_mode": {
    "name": "ipython",
    "version": 3
   },
   "file_extension": ".py",
   "mimetype": "text/x-python",
   "name": "python",
   "nbconvert_exporter": "python",
   "pygments_lexer": "ipython3",
   "version": "3.10.10"
  }
 },
 "nbformat": 4,
 "nbformat_minor": 5
}
